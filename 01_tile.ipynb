{
 "cells": [
  {
   "cell_type": "code",
   "execution_count": null,
   "metadata": {},
   "outputs": [],
   "source": [
    "# default_exp tile"
   ]
  },
  {
   "cell_type": "markdown",
   "metadata": {},
   "source": [
    "# tile\n",
    "\n",
    "> Extract sgrnas from a sequence"
   ]
  },
  {
   "cell_type": "code",
   "execution_count": null,
   "metadata": {},
   "outputs": [],
   "source": [
    "# export\n",
    "import pandas as pd"
   ]
  },
  {
   "cell_type": "code",
   "execution_count": null,
   "metadata": {},
   "outputs": [],
   "source": [
    "# export\n",
    "def get_sequence_kmers(sequence, k):\n",
    "    \"\"\"Get all subsequences of length k. Include overlapping sequences\n",
    "\n",
    "    sequence: str |\n",
    "    k: int |\n",
    "\n",
    "    returns: list of str\n",
    "    \"\"\"\n",
    "    seq_len = len(sequence)\n",
    "    subsequences = [sequence[i:(i+k)] for i in range(seq_len - k + 1)]\n",
    "    return subsequences"
   ]
  },
  {
   "cell_type": "code",
   "execution_count": null,
   "metadata": {},
   "outputs": [],
   "source": [
    "from sgrna_designer import ensembl\n",
    "\n",
    "sequence = ensembl.get_transcript_sequence('ENST00000381577')\n",
    "context_subsequences = get_sequence_kmers(sequence, 30)\n",
    "assert (len(sequence) - len(context_subsequences)) == 30 - 1\n",
    "assert all([len(x) == 30 for x in context_subsequences])\n",
    "assert len(set(context_subsequences)) == len(context_subsequences)\n",
    "assert context_subsequences[0] == sequence[0:30]\n",
    "assert context_subsequences[-1] == sequence[-30:]"
   ]
  },
  {
   "cell_type": "code",
   "execution_count": null,
   "metadata": {},
   "outputs": [],
   "source": [
    "# export\n",
    "def extract_subsequences(sequences, subseq_len, subseq_start):\n",
    "    \"\"\"Given a list of sequences extract a subsequence from each one\n",
    "\n",
    "    sequences: list |\n",
    "    pam_len: int, length of pam being considered |\n",
    "    pam_start: int, starting position for the pam sequence (-6 for Cas9) |\n",
    "\n",
    "    returns: list\n",
    "    \"\"\"\n",
    "    subsequences = [seq[subseq_start:(subseq_start+subseq_len)] for seq in sequences]\n",
    "    return subsequences"
   ]
  },
  {
   "cell_type": "code",
   "execution_count": null,
   "metadata": {},
   "outputs": [],
   "source": [
    "pam_sequences = extract_subsequences(context_subsequences, 4, -6)\n",
    "assert pam_sequences[0] == 'TTCA'"
   ]
  },
  {
   "cell_type": "code",
   "execution_count": null,
   "metadata": {},
   "outputs": [],
   "source": [
    "sgrna_sequences = extract_subsequences(context_subsequences, 20, 4)\n",
    "assert sgrna_sequences[0] == 'GGATATTTGCTGTCTTTATA'"
   ]
  },
  {
   "cell_type": "code",
   "execution_count": null,
   "metadata": {},
   "outputs": [],
   "source": [
    "# export\n",
    "def build_sgrna_df(sequence, context_len, pam_start, pam_len,\n",
    "                   sgrna_start, sgrna_len, pams=None):\n",
    "    \"\"\"Given a sequence, build a dataframe with all possible sgRNAs\n",
    "\n",
    "    sequence: str, sequence to designs sgRNAs against |\n",
    "    context_len: int, length of context sequence |\n",
    "    pam_start: int, position of PAM start relative to the context sequence |\n",
    "    pam_len: int, length of PAM |\n",
    "    sgrna_start: int, position of sgRNA relative to context sequence |\n",
    "    sgrna_len: length of sgRNA sequence |\n",
    "    pams: list or None, PAMs to design against |\n",
    "\n",
    "    returns: DataFrame\n",
    "    \"\"\"\n",
    "    subsequences = get_sequence_kmers(sequence, context_len)\n",
    "    sgrna_df = pd.DataFrame({'context_sequence': subsequences,\n",
    "                             'context_relative_start': range(len(subsequences))})\n",
    "    sgrna_df['pam_sequence'] = extract_subsequences(sgrna_df['context_sequence'], pam_len,\n",
    "                                                    pam_start)\n",
    "    if pams is not None:\n",
    "        sgrna_df = (sgrna_df[sgrna_df.pam_sequence.isin(pams)]\n",
    "                    .reset_index(drop=True))\n",
    "    sgrna_df['sgrna_sequence'] = extract_subsequences(sgrna_df['context_sequence'], sgrna_len,\n",
    "                                                      sgrna_start)\n",
    "    sgrna_df['sgrna_relative_start'] = sgrna_df['context_relative_start'] + sgrna_start\n",
    "    sgrna_df = sgrna_df.drop('context_relative_start', axis=1)\n",
    "    return sgrna_df"
   ]
  },
  {
   "cell_type": "code",
   "execution_count": null,
   "metadata": {},
   "outputs": [],
   "source": [
    "sgrna_df = build_sgrna_df(sequence, context_len=30, pam_start=-6,\n",
    "                          pam_len=3, sgrna_start=4, sgrna_len=20,\n",
    "                          pams=['CGG', 'TGG', 'AGG', 'GGG'])\n",
    "assert (sequence[sgrna_df['sgrna_relative_start'][0]:(sgrna_df['sgrna_relative_start'][0]+20)] ==\n",
    "        sgrna_df['sgrna_sequence'][0])"
   ]
  },
  {
   "cell_type": "code",
   "execution_count": null,
   "metadata": {},
   "outputs": [],
   "source": []
  }
 ],
 "metadata": {
  "kernelspec": {
   "display_name": "PyCharm (sgrna_designer)",
   "language": "python",
   "name": "pycharm-9bb1cd3f"
  }
 },
 "nbformat": 4,
 "nbformat_minor": 0
}
