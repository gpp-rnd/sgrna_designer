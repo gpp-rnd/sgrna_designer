{
 "cells": [
  {
   "cell_type": "markdown",
   "metadata": {},
   "source": [
    "# sgrna_designer\n",
    "\n",
    "> Python library to design sgRNAs for CRISPR tiling screens"
   ]
  },
  {
   "cell_type": "markdown",
   "metadata": {},
   "source": [
    "The primary function of this package is `design_sgrna_tiling_library`, in which you can input a list of\n",
    "ensembl transcript IDs, specify a region of interest (e.g. three_prime_UTR) and get all sgRNAs\n",
    "tiling those transcript regions."
   ]
  },
  {
   "cell_type": "markdown",
   "metadata": {},
   "source": [
    "## Install"
   ]
  },
  {
   "cell_type": "markdown",
   "metadata": {},
   "source": [
    "`pip install git+https://github.com/gpp-rnd/sgrna_designer.git#egg=sgrna_designer`"
   ]
  },
  {
   "cell_type": "markdown",
   "metadata": {},
   "source": [
    "## An example"
   ]
  },
  {
   "cell_type": "markdown",
   "metadata": {},
   "source": [
    "In this example we'll design sgRNAs tiling the 3' UTR of PDL1 (CD274) and BRAF\n",
    "\n",
    "**Note**: You must also have [pandas installed](https://pandas.pydata.org/pandas-docs/stable/getting_started/install.html)\n",
    "to run this tutorial"
   ]
  },
  {
   "cell_type": "code",
   "execution_count": null,
   "metadata": {},
   "outputs": [],
   "source": [
    "from sgrna_designer.design import design_sgrna_tiling_library\n",
    "\n",
    "target_transcripts = ['ENST00000381577', 'ENST00000644969'] # [PDL1, BRAF]"
   ]
  },
  {
   "cell_type": "markdown",
   "metadata": {},
   "source": [
    "Note the design function is agnostic to CRISPR enzyme and pam preferences, so you must specifiy the\n",
    "following parameters in a design run:\n",
    "* region: broad region you are trying to target (e.g. UTR)\n",
    "* region: more specific region you are trying to target (e.g. three_prime_UTR)\n",
    "* expand_3prime: amount to expand region in 3' direction\n",
    "* expand_5prime: amount to expand region in 5' direction\n",
    "* context_len: length of context sequence\n",
    "* pam_start: position of PAM start relative to the context sequence\n",
    "* pam_len: length of PAM\n",
    "* sgrna_start: position of sgRNA relative to context sequence\n",
    "* sgrna_len: length of sgRNA sequence\n",
    "* pams: PAMs to target\n",
    "* sg_positions: positions within the sgRNA to annotate and target\n",
    "(e.g. [4,8] for nucleotides 4 and 8 of the sgRNA for a base editing window)"
   ]
  },
  {
   "cell_type": "code",
   "execution_count": null,
   "metadata": {},
   "outputs": [
    {
     "data": {
      "text/html": "<div>\n<style scoped>\n    .dataframe tbody tr th:only-of-type {\n        vertical-align: middle;\n    }\n\n    .dataframe tbody tr th {\n        vertical-align: top;\n    }\n\n    .dataframe thead th {\n        text-align: right;\n    }\n</style>\n<table border=\"1\" class=\"dataframe\">\n  <thead>\n    <tr style=\"text-align: right;\">\n      <th></th>\n      <th>context_sequence</th>\n      <th>pam_sequence</th>\n      <th>sgrna_sequence</th>\n      <th>sgrna_global_start</th>\n      <th>sgrna_global_4</th>\n      <th>sgrna_global_8</th>\n      <th>sgrna_strand</th>\n      <th>object_type</th>\n      <th>transcript_strand</th>\n      <th>transcript_id</th>\n      <th>chromosome</th>\n      <th>region_id</th>\n      <th>region_start</th>\n      <th>region_end</th>\n    </tr>\n  </thead>\n  <tbody>\n    <tr>\n      <th>0</th>\n      <td>CATTGGAACTTCTGATCTTCAAGCAGGGAT</td>\n      <td>AGG</td>\n      <td>GGAACTTCTGATCTTCAAGC</td>\n      <td>5467872</td>\n      <td>5467875</td>\n      <td>5467879</td>\n      <td>1</td>\n      <td>three_prime_UTR</td>\n      <td>1</td>\n      <td>ENST00000381577</td>\n      <td>9</td>\n      <td>ENST00000381577</td>\n      <td>5467863</td>\n      <td>5470554</td>\n    </tr>\n    <tr>\n      <th>1</th>\n      <td>ATTGGAACTTCTGATCTTCAAGCAGGGATT</td>\n      <td>GGG</td>\n      <td>GAACTTCTGATCTTCAAGCA</td>\n      <td>5467873</td>\n      <td>5467876</td>\n      <td>5467880</td>\n      <td>1</td>\n      <td>three_prime_UTR</td>\n      <td>1</td>\n      <td>ENST00000381577</td>\n      <td>9</td>\n      <td>ENST00000381577</td>\n      <td>5467863</td>\n      <td>5470554</td>\n    </tr>\n    <tr>\n      <th>2</th>\n      <td>CTTCAAGCAGGGATTCTCAACCTGTGGTTT</td>\n      <td>TGG</td>\n      <td>AAGCAGGGATTCTCAACCTG</td>\n      <td>5467888</td>\n      <td>5467891</td>\n      <td>5467895</td>\n      <td>1</td>\n      <td>three_prime_UTR</td>\n      <td>1</td>\n      <td>ENST00000381577</td>\n      <td>9</td>\n      <td>ENST00000381577</td>\n      <td>5467863</td>\n      <td>5470554</td>\n    </tr>\n    <tr>\n      <th>3</th>\n      <td>GCAGGGATTCTCAACCTGTGGTTTAGGGGT</td>\n      <td>AGG</td>\n      <td>GGATTCTCAACCTGTGGTTT</td>\n      <td>5467894</td>\n      <td>5467897</td>\n      <td>5467901</td>\n      <td>1</td>\n      <td>three_prime_UTR</td>\n      <td>1</td>\n      <td>ENST00000381577</td>\n      <td>9</td>\n      <td>ENST00000381577</td>\n      <td>5467863</td>\n      <td>5470554</td>\n    </tr>\n    <tr>\n      <th>4</th>\n      <td>CAGGGATTCTCAACCTGTGGTTTAGGGGTT</td>\n      <td>GGG</td>\n      <td>GATTCTCAACCTGTGGTTTA</td>\n      <td>5467895</td>\n      <td>5467898</td>\n      <td>5467902</td>\n      <td>1</td>\n      <td>three_prime_UTR</td>\n      <td>1</td>\n      <td>ENST00000381577</td>\n      <td>9</td>\n      <td>ENST00000381577</td>\n      <td>5467863</td>\n      <td>5470554</td>\n    </tr>\n    <tr>\n      <th>...</th>\n      <td>...</td>\n      <td>...</td>\n      <td>...</td>\n      <td>...</td>\n      <td>...</td>\n      <td>...</td>\n      <td>...</td>\n      <td>...</td>\n      <td>...</td>\n      <td>...</td>\n      <td>...</td>\n      <td>...</td>\n      <td>...</td>\n      <td>...</td>\n    </tr>\n    <tr>\n      <th>845</th>\n      <td>GCTCAGGTCCCTTCATTTGTACTTTGGAGT</td>\n      <td>TGG</td>\n      <td>AGGTCCCTTCATTTGTACTT</td>\n      <td>140719570</td>\n      <td>140719567</td>\n      <td>140719563</td>\n      <td>-1</td>\n      <td>three_prime_UTR</td>\n      <td>-1</td>\n      <td>ENST00000644969</td>\n      <td>7</td>\n      <td>ENST00000644969</td>\n      <td>140719337</td>\n      <td>140726493</td>\n    </tr>\n    <tr>\n      <th>846</th>\n      <td>TATAACAGAAAATATTGTTCAGTTTGGATA</td>\n      <td>TGG</td>\n      <td>ACAGAAAATATTGTTCAGTT</td>\n      <td>140719522</td>\n      <td>140719519</td>\n      <td>140719515</td>\n      <td>-1</td>\n      <td>three_prime_UTR</td>\n      <td>-1</td>\n      <td>ENST00000644969</td>\n      <td>7</td>\n      <td>ENST00000644969</td>\n      <td>140719337</td>\n      <td>140726493</td>\n    </tr>\n    <tr>\n      <th>847</th>\n      <td>ATTGTTCAGTTTGGATAGAAAGCATGGAGA</td>\n      <td>TGG</td>\n      <td>TTCAGTTTGGATAGAAAGCA</td>\n      <td>140719509</td>\n      <td>140719506</td>\n      <td>140719502</td>\n      <td>-1</td>\n      <td>three_prime_UTR</td>\n      <td>-1</td>\n      <td>ENST00000644969</td>\n      <td>7</td>\n      <td>ENST00000644969</td>\n      <td>140719337</td>\n      <td>140726493</td>\n    </tr>\n    <tr>\n      <th>848</th>\n      <td>TATTTAAAAACTGTATTATATAAAAGGCAA</td>\n      <td>AGG</td>\n      <td>TAAAAACTGTATTATATAAA</td>\n      <td>140719426</td>\n      <td>140719423</td>\n      <td>140719419</td>\n      <td>-1</td>\n      <td>three_prime_UTR</td>\n      <td>-1</td>\n      <td>ENST00000644969</td>\n      <td>7</td>\n      <td>ENST00000644969</td>\n      <td>140719337</td>\n      <td>140726493</td>\n    </tr>\n    <tr>\n      <th>849</th>\n      <td>CTGCTATAATAAAGATTGACTGCATGGAGA</td>\n      <td>TGG</td>\n      <td>TATAATAAAGATTGACTGCA</td>\n      <td>140719360</td>\n      <td>140719357</td>\n      <td>140719353</td>\n      <td>-1</td>\n      <td>three_prime_UTR</td>\n      <td>-1</td>\n      <td>ENST00000644969</td>\n      <td>7</td>\n      <td>ENST00000644969</td>\n      <td>140719337</td>\n      <td>140726493</td>\n    </tr>\n  </tbody>\n</table>\n<p>850 rows × 14 columns</p>\n</div>",
      "text/plain": "                   context_sequence pam_sequence        sgrna_sequence  \\\n0    CATTGGAACTTCTGATCTTCAAGCAGGGAT          AGG  GGAACTTCTGATCTTCAAGC   \n1    ATTGGAACTTCTGATCTTCAAGCAGGGATT          GGG  GAACTTCTGATCTTCAAGCA   \n2    CTTCAAGCAGGGATTCTCAACCTGTGGTTT          TGG  AAGCAGGGATTCTCAACCTG   \n3    GCAGGGATTCTCAACCTGTGGTTTAGGGGT          AGG  GGATTCTCAACCTGTGGTTT   \n4    CAGGGATTCTCAACCTGTGGTTTAGGGGTT          GGG  GATTCTCAACCTGTGGTTTA   \n..                              ...          ...                   ...   \n845  GCTCAGGTCCCTTCATTTGTACTTTGGAGT          TGG  AGGTCCCTTCATTTGTACTT   \n846  TATAACAGAAAATATTGTTCAGTTTGGATA          TGG  ACAGAAAATATTGTTCAGTT   \n847  ATTGTTCAGTTTGGATAGAAAGCATGGAGA          TGG  TTCAGTTTGGATAGAAAGCA   \n848  TATTTAAAAACTGTATTATATAAAAGGCAA          AGG  TAAAAACTGTATTATATAAA   \n849  CTGCTATAATAAAGATTGACTGCATGGAGA          TGG  TATAATAAAGATTGACTGCA   \n\n     sgrna_global_start  sgrna_global_4  sgrna_global_8  sgrna_strand  \\\n0               5467872         5467875         5467879             1   \n1               5467873         5467876         5467880             1   \n2               5467888         5467891         5467895             1   \n3               5467894         5467897         5467901             1   \n4               5467895         5467898         5467902             1   \n..                  ...             ...             ...           ...   \n845           140719570       140719567       140719563            -1   \n846           140719522       140719519       140719515            -1   \n847           140719509       140719506       140719502            -1   \n848           140719426       140719423       140719419            -1   \n849           140719360       140719357       140719353            -1   \n\n         object_type  transcript_strand    transcript_id chromosome  \\\n0    three_prime_UTR                  1  ENST00000381577          9   \n1    three_prime_UTR                  1  ENST00000381577          9   \n2    three_prime_UTR                  1  ENST00000381577          9   \n3    three_prime_UTR                  1  ENST00000381577          9   \n4    three_prime_UTR                  1  ENST00000381577          9   \n..               ...                ...              ...        ...   \n845  three_prime_UTR                 -1  ENST00000644969          7   \n846  three_prime_UTR                 -1  ENST00000644969          7   \n847  three_prime_UTR                 -1  ENST00000644969          7   \n848  three_prime_UTR                 -1  ENST00000644969          7   \n849  three_prime_UTR                 -1  ENST00000644969          7   \n\n           region_id  region_start  region_end  \n0    ENST00000381577       5467863     5470554  \n1    ENST00000381577       5467863     5470554  \n2    ENST00000381577       5467863     5470554  \n3    ENST00000381577       5467863     5470554  \n4    ENST00000381577       5467863     5470554  \n..               ...           ...         ...  \n845  ENST00000644969     140719337   140726493  \n846  ENST00000644969     140719337   140726493  \n847  ENST00000644969     140719337   140726493  \n848  ENST00000644969     140719337   140726493  \n849  ENST00000644969     140719337   140726493  \n\n[850 rows x 14 columns]"
     },
     "execution_count": null,
     "metadata": {},
     "output_type": "execute_result"
    }
   ],
   "source": [
    "sgrna_designs = design_sgrna_tiling_library(target_transcripts, region_parent='UTR',\n",
    "                                            region='three_prime_UTR', expand_3prime=30,\n",
    "                                            expand_5prime=30, context_len=30, pam_start=-6,\n",
    "                                            pam_len=3, sgrna_start=4, sgrna_len=20,\n",
    "                                            pams=['AGG', 'CGG', 'TGG', 'GGG'],\n",
    "                                            sg_positions=[4, 8], flag_seqs=['TTTT', 'CGTCTC', 'GAGACG'],\n",
    "                                            flag_seqs_start=['TCTC', 'AGACG'], flag_seqs_end=['GAGAC'])\n",
    "sgrna_designs"
   ]
  },
  {
   "cell_type": "code",
   "execution_count": null,
   "metadata": {},
   "outputs": [],
   "source": []
  }
 ],
 "metadata": {
  "kernelspec": {
   "display_name": "Python 3",
   "language": "python",
   "name": "python3"
  }
 },
 "nbformat": 4,
 "nbformat_minor": 2
}
