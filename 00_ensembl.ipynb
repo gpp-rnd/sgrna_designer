{
 "cells": [
  {
   "cell_type": "code",
   "execution_count": null,
   "metadata": {},
   "outputs": [],
   "source": [
    "# default_exp ensembl"
   ]
  },
  {
   "cell_type": "markdown",
   "metadata": {},
   "source": [
    "# ensembl\n",
    "\n",
    "> Query sequence data in ensembl"
   ]
  },
  {
   "cell_type": "code",
   "execution_count": null,
   "metadata": {},
   "outputs": [],
   "source": [
    "# export\n",
    "import requests\n",
    "import json"
   ]
  },
  {
   "cell_type": "markdown",
   "metadata": {},
   "source": [
    "## Query the ensembl database\n",
    "Functions to query https://rest.ensembl.org/"
   ]
  },
  {
   "cell_type": "markdown",
   "metadata": {},
   "source": [
    "### GET"
   ]
  },
  {
   "cell_type": "code",
   "execution_count": null,
   "metadata": {},
   "outputs": [],
   "source": [
    "# export\n",
    "def ensembl_get(ext, query=None, headers=None, params=None):\n",
    "    \"\"\"Generic wrapper for using GET requests to the ensembl rest API\n",
    "\n",
    "    ext: str, url extension |\n",
    "    query: str or None, end of url extension specifying species, taxon, esnembl_id etc |\n",
    "    headers: dict or None,  meta-information for query |\n",
    "    params: dict or None, parameters for query |\n",
    "\n",
    "    returns: Response object\n",
    "    \"\"\"\n",
    "    if query is None:\n",
    "        query = ''\n",
    "    if params is None:\n",
    "        params = {}\n",
    "    if headers is None:\n",
    "        headers = {}\n",
    "    r = requests.get(\"https://rest.ensembl.org\"+ext+query, params=params, headers=headers)\n",
    "    if not r.ok:\n",
    "        r.raise_for_status()\n",
    "    else:\n",
    "        return r"
   ]
  },
  {
   "cell_type": "markdown",
   "metadata": {},
   "source": [
    "### POST"
   ]
  },
  {
   "cell_type": "code",
   "execution_count": null,
   "metadata": {},
   "outputs": [],
   "source": [
    "# export\n",
    "def ensembl_post(ext, data, headers=None, params=None):\n",
    "    \"\"\"Generic wrapper for using POST requests to the ensembl rest API\n",
    "\n",
    "    ext: str, url extension |\n",
    "    data: dict, query data |\n",
    "    headers: dict or None,  meta-information for query |\n",
    "    params: dict or None, parameters for query |\n",
    "\n",
    "    returns: Response object\n",
    "    \"\"\"\n",
    "    if params is None:\n",
    "        params = {}\n",
    "    if headers is None:\n",
    "        headers = {}\n",
    "    data = json.dumps(data)\n",
    "    r = requests.post(\"https://rest.ensembl.org\"+ext, headers=headers, data=data, params=params)\n",
    "    if not r.ok:\n",
    "        r.raise_for_status()\n",
    "    else:\n",
    "        return r"
   ]
  },
  {
   "cell_type": "markdown",
   "metadata": {},
   "source": [
    "## Get Transcript Meta-information"
   ]
  },
  {
   "cell_type": "code",
   "execution_count": null,
   "metadata": {},
   "outputs": [],
   "source": [
    "#export\n",
    "def get_ensembl_id_information(ensembl_id, expand=1, utr=1, **kwargs):\n",
    "    \"\"\"Get information for an ensembl id (ref. https://rest.ensembl.org/documentation/info/lookup)\n",
    "\n",
    "    ensembl_id: ENSG or ENST |\n",
    "    expand: Expands the search to include any connected features.\n",
    "        e.g. If the object is a gene, its transcripts, translations and exons will be returned as well. |\n",
    "    utr: Include 5' and 3' UTR features. Only available if the expand option is used. |\n",
    "    kwargs: other parameters for lookup |\n",
    "\n",
    "    returns: dict\n",
    "    \"\"\"\n",
    "    headers = {'content-type': 'application/json'}\n",
    "    params = {'expand': expand, 'utr': utr, **kwargs}\n",
    "    r = ensembl_get('/lookup/id/', query=ensembl_id,\n",
    "                    params=params, headers=headers)\n",
    "    transcript_info = r.json()\n",
    "    return transcript_info"
   ]
  },
  {
   "cell_type": "code",
   "execution_count": null,
   "metadata": {},
   "outputs": [],
   "source": [
    "assert get_ensembl_id_information('ENSG00000157764')['display_name'] == 'BRAF'"
   ]
  },
  {
   "cell_type": "markdown",
   "metadata": {},
   "source": [
    "## Get sequence by transcript\n",
    "\n",
    "Note that `get_transcript_sequence` returns sequences 5' to 3' on same strand as the target"
   ]
  },
  {
   "cell_type": "code",
   "execution_count": null,
   "metadata": {},
   "outputs": [],
   "source": [
    "# export\n",
    "def get_transcript_sequence(ensembl_id, seq_type='cds',\n",
    "                            **kwargs):\n",
    "    \"\"\"Request multiple types of sequence by stable identifier. Supports feature masking and expand options.\n",
    "    Uses https://rest.ensembl.org/documentation/info/sequence_id\n",
    "\n",
    "    seq_type: str, one of [genomic, cds, cdna, protein] |\n",
    "    kwargs: additional parameter arguments |\n",
    "\n",
    "    returns: str, sequence 5' to 3' in the same orientation as the input transcript\n",
    "    \"\"\"\n",
    "    headers = {'content-type': 'text/plain'}\n",
    "    params = {'type': seq_type, **kwargs}\n",
    "    r = ensembl_get(\"/sequence/id/\", query=ensembl_id, params=params,\n",
    "                    headers=headers)\n",
    "    seq = r.text\n",
    "    return seq"
   ]
  },
  {
   "cell_type": "code",
   "execution_count": null,
   "metadata": {},
   "outputs": [],
   "source": [
    "assert(get_transcript_sequence('ENSE00001154485', seq_type='genomic', mask_feature=0,\n",
    "                               expand_5prime=10) ==\n",
    "       'CCCTCCCCGCCCGACAGCGGCCGCTCGGGCCCCGGCTCTCGGTTATAAGATGGCGGCGCTGAGCGGTGGCGGTGGTGGCGGCGCGGAGCCGGGCCAGGCTCTGTTCAACGGGGACATGGAGCCCGAGGCCGGCGCCGGCGCCGGCGCCGCGGCCTCTTCGGCTGCGGACCCTGCCATTCCGGAGGAG')"
   ]
  },
  {
   "cell_type": "markdown",
   "metadata": {},
   "source": [
    "## Post sequence by transcript"
   ]
  },
  {
   "cell_type": "code",
   "execution_count": null,
   "metadata": {},
   "outputs": [],
   "source": [
    "# export\n",
    "def post_transcript_sequence(ensembl_ids, seq_type='cdna',\n",
    "                            **kwargs):\n",
    "    \"\"\"Request multiple types of sequence by stable identifier. Supports feature masking and expand options.\n",
    "    Uses https://rest.ensembl.org/documentation/info/sequence_id\n",
    "\n",
    "    seq_type: str, one of [genomic, cds, cdna, protein] |\n",
    "    kwargs: additional parameter arguments |\n",
    "\n",
    "    returns: str, sequence 5' to 3' in the same orientation as the input transcript\n",
    "    \"\"\"\n",
    "    headers={\"content-type\" : \"application/json\", \"accept\" : \"application/json\"}\n",
    "    params = {'type': seq_type, **kwargs}\n",
    "    data = {'ids': ensembl_ids}\n",
    "    r = ensembl_post(\"/sequence/id/\", data=data, params=params,\n",
    "                     headers=headers)\n",
    "    seq_list = r.json()\n",
    "    return seq_list"
   ]
  },
  {
   "cell_type": "code",
   "execution_count": null,
   "metadata": {},
   "outputs": [],
   "source": [
    "assert(post_transcript_sequence([\"ENSG00000157764\", \"ENSG00000248378\"],\n",
    "                                seq_type='genomic')[0]['seq'][:4] == 'CTTC')"
   ]
  },
  {
   "cell_type": "markdown",
   "metadata": {},
   "source": [
    "## Get Sequence by region\n",
    "\n",
    "Note that `get_region_sequence` returns sequences 5' to 3' on the positive DNA strand"
   ]
  },
  {
   "cell_type": "code",
   "execution_count": null,
   "metadata": {},
   "outputs": [],
   "source": [
    "# export\n",
    "def create_region_str(start, end, seq_region):\n",
    "    \"\"\"Generate string to query a geonomic region of interest\n",
    "\n",
    "    start: int |\n",
    "    end: int |\n",
    "    seq_region: str, chromosome |\n",
    "\n",
    "    returns: str\n",
    "    \"\"\"\n",
    "    region = seq_region + ':' + str(start) + '..' + str(end)\n",
    "    return region\n",
    "\n",
    "\n",
    "def get_region_sequence(start, end, seq_region, **kwargs):\n",
    "    \"\"\"Returns the genomic sequence of the specified region of the given species.\n",
    "    Supports feature masking and expand options.\n",
    "    Uses https://rest.ensembl.org/documentation/info/sequence_region\n",
    "\n",
    "    start: int, genomic start position |\n",
    "    end: int, genomic end position |\n",
    "    seq_region: str, chromosome |\n",
    "    kwargs: additional arguments to send to query |\n",
    "\n",
    "    returns: str, sequence 3' to 5' on the positive DNA strand\n",
    "    \"\"\"\n",
    "    region = create_region_str(start, end, seq_region)\n",
    "    headers = {'content-type': 'text/plain'}\n",
    "    params = {**kwargs}\n",
    "    r = ensembl_get('/sequence/region/human/', query=region, headers=headers,\n",
    "                    params=params)\n",
    "    sequence = r.text\n",
    "    return sequence"
   ]
  },
  {
   "cell_type": "code",
   "execution_count": null,
   "metadata": {},
   "outputs": [],
   "source": [
    "assert (get_region_sequence(1000000, 1000100, 'X') ==\n",
    "        'CTGTAGAAACATTAGCCTGGCTAACAAGGTGAAACCCCATCTCTACTAACAATACAAAATATTGGTTGGGCGTGGTGGCGGGTGCTTGTAATCCCAGCTAC')"
   ]
  },
  {
   "cell_type": "markdown",
   "metadata": {},
   "source": [
    "## Post sequence by region"
   ]
  },
  {
   "cell_type": "code",
   "execution_count": null,
   "metadata": {},
   "outputs": [],
   "source": [
    "# export\n",
    "def post_region_sequences(start, end, seq_region, **kwargs):\n",
    "    \"\"\"Request multiple types of sequence by a list of regions.\n",
    "    Uses https://rest.ensembl.org/documentation/info/sequence_region_post\n",
    "\n",
    "    start: list of int, start of each query region. Should align with end and seq_region |\n",
    "    end: list of int |\n",
    "    seq_region: list of str |\n",
    "    kwargs: optional params for the query |\n",
    "\n",
    "    returns: list of dict\n",
    "    \"\"\"\n",
    "    regions = []\n",
    "    for s, e, r in zip(start, end, seq_region):\n",
    "        region_str = create_region_str(s, e, r)\n",
    "        regions.append(region_str)\n",
    "    ext = \"/sequence/region/human\"\n",
    "    headers={\"content-type\" : \"application/json\", \"accept\" : \"application/json\"}\n",
    "    params = {**kwargs}\n",
    "    regions_dict = {'regions': regions}\n",
    "    r = ensembl_post(ext, data=regions_dict, headers=headers, params=params)\n",
    "    seq_list = r.json()\n",
    "    return seq_list"
   ]
  },
  {
   "cell_type": "code",
   "execution_count": null,
   "metadata": {},
   "outputs": [],
   "source": [
    "assert (post_region_sequences([1000000, 1], [1000100, 100],\n",
    "                              ['X', 'ABBA01004489.1'])[0]['seq'] ==\n",
    "        'CTGTAGAAACATTAGCCTGGCTAACAAGGTGAAACCCCATCTCTACTAACAATACAAAATATTGGTTGGGCGTGGTGGCGGGTGCTTGTAATCCCAGCTAC')"
   ]
  },
  {
   "cell_type": "code",
   "execution_count": null,
   "metadata": {},
   "outputs": [],
   "source": []
  }
 ],
 "metadata": {
  "kernelspec": {
   "display_name": "PyCharm (sgrna_designer)",
   "language": "python",
   "name": "pycharm-9bb1cd3f"
  }
 },
 "nbformat": 4,
 "nbformat_minor": 2
}
