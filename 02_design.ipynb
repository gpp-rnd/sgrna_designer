{
 "cells": [
  {
   "cell_type": "code",
   "execution_count": null,
   "metadata": {},
   "outputs": [],
   "source": [
    "# default_exp design"
   ]
  },
  {
   "cell_type": "markdown",
   "metadata": {},
   "source": [
    "# Design\n",
    "> Design sequences for regions of interest"
   ]
  },
  {
   "cell_type": "code",
   "execution_count": null,
   "metadata": {},
   "outputs": [],
   "source": [
    "#export\n",
    "import pandas as pd\n",
    "from sgrna_designer import ensembl\n",
    "from sgrna_designer import tile"
   ]
  },
  {
   "cell_type": "code",
   "execution_count": null,
   "metadata": {},
   "outputs": [],
   "source": [
    "# export\n",
    "def reverse_compliment(seq):\n",
    "    \"\"\"Return the reverse compliment of a sequence\n",
    "\n",
    "    seq: str |\n",
    "\n",
    "    return: str\n",
    "    \"\"\"\n",
    "    compliment = {'A': 'T', 'C': 'G', 'G': 'C', 'T': 'A'}\n",
    "    reverse = seq[::-1]\n",
    "    rev_comp = ''.join([compliment[nt] for nt in reverse])\n",
    "    return rev_comp"
   ]
  },
  {
   "cell_type": "code",
   "execution_count": null,
   "metadata": {},
   "outputs": [],
   "source": [
    "assert reverse_compliment('ACTG') == 'CAGT'"
   ]
  },
  {
   "cell_type": "markdown",
   "metadata": {},
   "source": [
    "## Global indexing\n",
    "\n",
    "Given the global start and end of a sequence (location with the genome) and its orientation, track the\n",
    "the global position of targetting sgRNAs."
   ]
  },
  {
   "cell_type": "code",
   "execution_count": null,
   "metadata": {},
   "outputs": [],
   "source": [
    "# export\n",
    "def calculate_global_position(strand, start, end, relative_position):\n",
    "    \"\"\"Calculate the global position of locus in a subsequence\n",
    "\n",
    "    strand: int [1 or -1], strand of DNA sequence |\n",
    "    start: int, global start position of sequence |\n",
    "    end: int, global end position of sequence |\n",
    "    relative_position: list of int, positions of sgRNAs relative to sequence |\n",
    "\n",
    "    returns: list of int\n",
    "    \"\"\"\n",
    "    if strand == 1:\n",
    "        global_position = [start + x for x in relative_position]\n",
    "    elif strand == -1:\n",
    "        global_position = [end - x for x in relative_position]\n",
    "    else:\n",
    "        raise ValueError(\"Strand must be 1 or -1\")\n",
    "    return global_position"
   ]
  },
  {
   "cell_type": "code",
   "execution_count": null,
   "metadata": {},
   "outputs": [],
   "source": [
    "region_start = 20100\n",
    "region_end = 20200\n",
    "chrom = '1'\n",
    "sequence = ensembl.get_region_sequence(region_start, region_end, chrom)\n",
    "sgrna_df = tile.build_sgrna_df(sequence, 30, -6, 3, 4, 20, pams=['CGG', 'AGG', 'TGG', 'GGG'])\n",
    "sgrna_df['sgrna_global_start'] = calculate_global_position(1, region_start, region_end, sgrna_df['sgrna_relative_start'])\n",
    "assert(sgrna_df['sgrna_sequence'][0] == ensembl.get_region_sequence(sgrna_df['sgrna_global_start'][0],\n",
    "                                                                    sgrna_df['sgrna_global_start'][0] + 19,\n",
    "                                                                    chrom))"
   ]
  },
  {
   "cell_type": "markdown",
   "metadata": {},
   "source": [
    "Note that the direction is reversed for a sequence on the negative DNA strand"
   ]
  },
  {
   "cell_type": "code",
   "execution_count": null,
   "metadata": {},
   "outputs": [],
   "source": [
    "reverse_sequence = reverse_compliment(sequence)\n",
    "rev_sgrna_df = tile.build_sgrna_df(reverse_sequence, 30, -6, 3, 4, 20, pams=['CGG', 'AGG', 'TGG', 'GGG'])\n",
    "rev_sgrna_df['sgrna_global_start'] = calculate_global_position(-1, region_start, region_end,\n",
    "                                                               rev_sgrna_df['sgrna_relative_start'])\n",
    "assert(rev_sgrna_df['sgrna_sequence'][0] == reverse_compliment(ensembl.get_region_sequence(\n",
    "    rev_sgrna_df['sgrna_global_start'][0] - 19,\n",
    "    rev_sgrna_df['sgrna_global_start'][0],\n",
    "    chrom)))"
   ]
  },
  {
   "cell_type": "code",
   "execution_count": null,
   "metadata": {},
   "outputs": [],
   "source": [
    "# export\n",
    "def traverse_global_position(strand, reference_position, distance):\n",
    "    \"\"\"Move from one global position to another\n",
    "\n",
    "    strand: int [1 or -1], strand of DNA sequence |\n",
    "    reference_position: list of int, global starting position |\n",
    "    distance: int, distance to move 5' to 3' on either strand |\n",
    "\n",
    "    returns: list of int\n",
    "    \"\"\"\n",
    "    if strand == 1:\n",
    "        new_position = [x + distance for x in reference_position]\n",
    "    elif strand == -1:\n",
    "        new_position = [x - distance for x in reference_position]\n",
    "    else:\n",
    "        raise ValueError(\"Strand must be 1 or -1\")\n",
    "    return new_position"
   ]
  },
  {
   "cell_type": "code",
   "execution_count": null,
   "metadata": {},
   "outputs": [],
   "source": [
    "sgrna_positions = [4, 8]\n",
    "for pos in sgrna_positions:\n",
    "    sgrna_df['sgrna_global_' + str(pos)] = traverse_global_position(1, sgrna_df['sgrna_global_start'], pos-1)\n",
    "assert (sgrna_df['sgrna_sequence'][0][3:8] == ensembl.get_region_sequence(sgrna_df['sgrna_global_4'][0],\n",
    "                                                                          sgrna_df['sgrna_global_8'][0],\n",
    "                                                                          chrom))"
   ]
  },
  {
   "cell_type": "markdown",
   "metadata": {},
   "source": [
    "Again the direction is reversed for a sequence on the negative DNA strand"
   ]
  },
  {
   "cell_type": "code",
   "execution_count": null,
   "metadata": {},
   "outputs": [],
   "source": [
    "for pos in sgrna_positions:\n",
    "    rev_sgrna_df['sgrna_global_' + str(pos)] = traverse_global_position(-1, rev_sgrna_df['sgrna_global_start'], pos-1)\n",
    "assert rev_sgrna_df['sgrna_sequence'][0][3:8] == reverse_compliment(ensembl.get_region_sequence(\n",
    "    rev_sgrna_df['sgrna_global_8'][0],\n",
    "    rev_sgrna_df['sgrna_global_4'][0],\n",
    "    chrom))"
   ]
  },
  {
   "cell_type": "code",
   "execution_count": null,
   "metadata": {},
   "outputs": [],
   "source": [
    "# export\n",
    "def get_sgrna_global_indices(sgrna_df, seq_start, seq_end, strand, sg_positions=None):\n",
    "    \"\"\"Take an sgrna_df and return the globabl positions of elements of the sgRNA\n",
    "\n",
    "    sgrna_df: Dataframe from `build_sgrna_df` |\n",
    "    seq_start: int, starting index of sequence |\n",
    "    seq_end: int, ending index of sequence |\n",
    "    strand: int [1 or -1], strand of DNA sequence |\n",
    "    sg_positions: list, positions within the sgRNA to annotate (e.g. [4,8] for nucleotides 4 and 8 of the sgRNA) |\n",
    "\n",
    "    returns: DataFrame\n",
    "    \"\"\"\n",
    "    indexed_sgrna_df = sgrna_df.copy()\n",
    "    indexed_sgrna_df['sgrna_global_start'] = calculate_global_position(strand, seq_start, seq_end,\n",
    "                                                                       indexed_sgrna_df['sgrna_relative_start'])\n",
    "    if sg_positions is not None:\n",
    "        for pos in sg_positions:\n",
    "            indexed_sgrna_df['sgrna_global_' + str(pos)] = traverse_global_position(strand,\n",
    "                                                                                    indexed_sgrna_df['sgrna_global_start'],\n",
    "                                                                                    pos-1)\n",
    "    indexed_sgrna_df = indexed_sgrna_df.drop('sgrna_relative_start', axis=1)\n",
    "    return indexed_sgrna_df"
   ]
  },
  {
   "cell_type": "markdown",
   "metadata": {},
   "source": [
    "## Building a full sgRNA design run"
   ]
  },
  {
   "cell_type": "code",
   "execution_count": null,
   "metadata": {},
   "outputs": [],
   "source": [
    "# export\n",
    "def get_trainscript_region_info(transcript_info, region_parent, region):\n",
    "    \"\"\"Return dictionaries for specified regions of interest\n",
    "\n",
    "    transcript_info: dict, returned by https://rest.ensembl.org/documentation/info/lookup |\n",
    "    region_parent: str, first level key in transcript_info eg. UTR |\n",
    "    region: str, second level key in trancript_info eg. three_prime_UTR |\n",
    "\n",
    "    returns: list of dict\n",
    "    \"\"\"\n",
    "    if region_parent in transcript_info.keys():\n",
    "        parent_info = transcript_info[region_parent]\n",
    "        regions = []\n",
    "        for r in parent_info:\n",
    "            if r['object_type'] == region:\n",
    "                regions.append(r)\n",
    "    else:\n",
    "        raise ValueError(region_parent + ' or ' + region + 'element could not be identified')\n",
    "    return regions\n",
    "\n",
    "def get_target_regions_df(target_transcripts, region_parent, region,\n",
    "                          expand_3prime, expand_5prime):\n",
    "    \"\"\"For a list of transcripts return the locations for a specific region (e.g. three_prime_UTR)\n",
    "\n",
    "    target_transcripts: list of str\n",
    "    region_parent: str, first level key in transcript_info eg. UTR |\n",
    "    region: str, second level key in trancript_info eg. three_prime_UTR |\n",
    "    expand_3prime: int, length to expand region in 3' direction |\n",
    "    expand_5prime: int, length to expand region in 5' direction |\n",
    "\n",
    "    returns: DataFrame of target regions\n",
    "    \"\"\"\n",
    "    target_transcript_info = []\n",
    "    for transcript in target_transcripts:\n",
    "        transcript_info = ensembl.get_ensembl_id_information(transcript)\n",
    "        region_info = get_trainscript_region_info(transcript_info, region_parent, region)\n",
    "        region_info_df = pd.DataFrame(region_info)\n",
    "        region_info_df['transcript_id'] = transcript\n",
    "        target_transcript_info.append(region_info_df)\n",
    "    target_regions_df = pd.concat(target_transcript_info)\n",
    "    target_regions_df['expanded_start'] = target_regions_df['start'] - expand_3prime\n",
    "    target_regions_df['expanded_end'] = target_regions_df['end'] + expand_5prime\n",
    "    # We keep track of region_pos for merging with the target_sequence_df\n",
    "    target_regions_df['region_pos'] = target_regions_df.apply(lambda row:\n",
    "                                                              ensembl.create_region_str(row['expanded_start'],\n",
    "                                                                                        row['expanded_end'],\n",
    "                                                                                        row['seq_region_name']),\n",
    "                                                              axis=1)\n",
    "    return target_regions_df"
   ]
  },
  {
   "cell_type": "code",
   "execution_count": null,
   "metadata": {},
   "outputs": [],
   "source": [
    "regions = get_target_regions_df(['ENST00000381577'], 'UTR', 'five_prime_UTR', 30, 30)\n",
    "assert regions.shape[0] == 2\n",
    "assert regions['start'][0] == 5450542\n",
    "assert regions['end'][0] == 5450596"
   ]
  },
  {
   "cell_type": "code",
   "execution_count": null,
   "metadata": {},
   "outputs": [],
   "source": [
    "# export\n",
    "def get_target_regions_sequences(target_regions_df):\n",
    "    \"\"\"Get sequences from a DataFrame of target regions\n",
    "\n",
    "    target_regions_df: DataFrame from `get_target_regions_df`\n",
    "\n",
    "    returns: DataFrame\n",
    "    \"\"\"\n",
    "    target_sequences = ensembl.post_region_sequences(target_regions_df['expanded_start'],\n",
    "                                                     target_regions_df['expanded_end'],\n",
    "                                                     target_regions_df['seq_region_name'])\n",
    "    target_sequence_df = pd.DataFrame(target_sequences)\n",
    "    return target_sequence_df"
   ]
  },
  {
   "cell_type": "code",
   "execution_count": null,
   "metadata": {},
   "outputs": [],
   "source": [
    "target_sequences_df = get_target_regions_sequences(regions)\n",
    "assert 'AGTTCTGCGCAGCTTCCCGAGGCTCCGCACCAGCCGCGCTTCTGTCCGCCTGCAG' in target_sequences_df['seq'][0]"
   ]
  },
  {
   "cell_type": "code",
   "execution_count": null,
   "metadata": {},
   "outputs": [],
   "source": [
    "def merge_target_region_sequence_df(target_regions_df, target_sequences_df):\n",
    "    \"\"\"Merge target regions and target sequences dataframes\n",
    "\n",
    "    target_regions_df:  DataFrame, from `get_target_regions_df` |\n",
    "    target_sequences_df: DataFrame, from `get_target_regions_sequences` |\n",
    "\n",
    "    returns: DataFrame\n",
    "    \"\"\"\n",
    "    target_region_seq_df = (target_regions_df\n",
    "                            .rename({'id': 'region_id'}, axis=1)\n",
    "                            .merge(target_sequences_df\n",
    "                                   .rename({'query': 'region_pos',\n",
    "                                            'id': 'region_pos_id'}, axis=1), how='inner', on='region_pos'))\n",
    "    return target_region_seq_df"
   ]
  },
  {
   "cell_type": "code",
   "execution_count": null,
   "metadata": {},
   "outputs": [
    {
     "data": {
      "text/html": "<div>\n<style scoped>\n    .dataframe tbody tr th:only-of-type {\n        vertical-align: middle;\n    }\n\n    .dataframe tbody tr th {\n        vertical-align: top;\n    }\n\n    .dataframe thead th {\n        text-align: right;\n    }\n</style>\n<table border=\"1\" class=\"dataframe\">\n  <thead>\n    <tr style=\"text-align: right;\">\n      <th></th>\n      <th>db_type</th>\n      <th>Parent</th>\n      <th>region_id</th>\n      <th>end</th>\n      <th>object_type</th>\n      <th>assembly_name</th>\n      <th>species</th>\n      <th>start</th>\n      <th>source</th>\n      <th>seq_region_name</th>\n      <th>strand</th>\n      <th>transcript_id</th>\n      <th>expanded_start</th>\n      <th>expanded_end</th>\n      <th>region_pos</th>\n      <th>region_pos_id</th>\n      <th>molecule</th>\n      <th>seq</th>\n    </tr>\n  </thead>\n  <tbody>\n    <tr>\n      <th>0</th>\n      <td>core</td>\n      <td>ENST00000381577</td>\n      <td>ENST00000381577</td>\n      <td>5450596</td>\n      <td>five_prime_UTR</td>\n      <td>GRCh38</td>\n      <td>homo_sapiens</td>\n      <td>5450542</td>\n      <td>ensembl_havana</td>\n      <td>9</td>\n      <td>1</td>\n      <td>ENST00000381577</td>\n      <td>5450512</td>\n      <td>5450626</td>\n      <td>9:5450512..5450626</td>\n      <td>chromosome:GRCh38:9:5450512:5450626:1</td>\n      <td>dna</td>\n      <td>CTGAGCAGCTGGCGCGTCCCGCGCGGCCCCAGTTCTGCGCAGCTTC...</td>\n    </tr>\n    <tr>\n      <th>1</th>\n      <td>core</td>\n      <td>ENST00000381577</td>\n      <td>ENST00000381577</td>\n      <td>5456113</td>\n      <td>five_prime_UTR</td>\n      <td>GRCh38</td>\n      <td>homo_sapiens</td>\n      <td>5456100</td>\n      <td>ensembl_havana</td>\n      <td>9</td>\n      <td>1</td>\n      <td>ENST00000381577</td>\n      <td>5456070</td>\n      <td>5456143</td>\n      <td>9:5456070..5456143</td>\n      <td>chromosome:GRCh38:9:5456070:5456143:1</td>\n      <td>dna</td>\n      <td>CAGTCTTCTTTTCGTGTTTTCCATAATTAGGGCATTCCAGAAAGAT...</td>\n    </tr>\n  </tbody>\n</table>\n</div>",
      "text/plain": "  db_type           Parent        region_id      end     object_type  \\\n0    core  ENST00000381577  ENST00000381577  5450596  five_prime_UTR   \n1    core  ENST00000381577  ENST00000381577  5456113  five_prime_UTR   \n\n  assembly_name       species    start          source seq_region_name  \\\n0        GRCh38  homo_sapiens  5450542  ensembl_havana               9   \n1        GRCh38  homo_sapiens  5456100  ensembl_havana               9   \n\n   strand    transcript_id  expanded_start  expanded_end          region_pos  \\\n0       1  ENST00000381577         5450512       5450626  9:5450512..5450626   \n1       1  ENST00000381577         5456070       5456143  9:5456070..5456143   \n\n                           region_pos_id molecule  \\\n0  chromosome:GRCh38:9:5450512:5450626:1      dna   \n1  chromosome:GRCh38:9:5456070:5456143:1      dna   \n\n                                                 seq  \n0  CTGAGCAGCTGGCGCGTCCCGCGCGGCCCCAGTTCTGCGCAGCTTC...  \n1  CAGTCTTCTTTTCGTGTTTTCCATAATTAGGGCATTCCAGAAAGAT...  "
     },
     "execution_count": null,
     "metadata": {},
     "output_type": "execute_result"
    }
   ],
   "source": [
    "target_region_seq_df = merge_target_region_sequence_df(regions, target_sequences_df)\n",
    "target_region_seq_df"
   ]
  },
  {
   "cell_type": "code",
   "execution_count": null,
   "metadata": {},
   "outputs": [],
   "source": [
    "def get_transcript_sgrnas(target_region_seq_df, context_len, pam_start, pam_len,\n",
    "                          sgrna_start, sgrna_len, pams, sg_positions):\n",
    "    \"\"\"Get all sgRNAs targeting transcript regions\n",
    "\n",
    "    target_region_seq_df: DataFrame, from `merge_target_region_sequence_df`\n",
    "    context_len: int, length of context sequence |\n",
    "    pam_start: int, position of PAM start relative to the context sequence |\n",
    "    pam_len: int, length of PAM |\n",
    "    sgrna_start: int, position of sgRNA relative to context sequence |\n",
    "    sgrna_len: length of sgRNA sequence |\n",
    "    pams: list or None, PAMs to design against |\n",
    "    sg_positions: list of int, positions within the sgRNA to annotate\n",
    "    (e.g. [4,8] for nucleotides 4 and 8 of the sgRNA) |\n",
    "\n",
    "    returns DataFrame\n",
    "    \"\"\"\n",
    "    sgrna_df_list = []\n",
    "    meta_columns = ['object_type', 'strand', 'transcript_id', 'seq_region_name', 'region_id', 'start', 'end']\n",
    "    for i, row in target_region_seq_df.iterrows():\n",
    "        seq_start = row['expanded_start']\n",
    "        seq_end = row['expanded_end']\n",
    "        sequence = row['seq']\n",
    "        # Sequences on the positive strand\n",
    "        pos_sgrna_df = tile.build_sgrna_df(sequence, context_len=context_len, pam_start=pam_start,\n",
    "                                           pam_len=pam_len, sgrna_start=sgrna_start,\n",
    "                                           sgrna_len=sgrna_len, pams=pams)\n",
    "        pos_sgrna_df = get_sgrna_global_indices(pos_sgrna_df, seq_start, seq_end, 1, sg_positions)\n",
    "        # assuming the target_region_seq_df is oriented on the positive sgRNA strand\n",
    "        pos_sgrna_df['sgrna_strand'] = 1\n",
    "        # Sequences on the negative strand\n",
    "        rev_comp_seq = reverse_compliment(sequence)\n",
    "        neg_sgrna_df = tile.build_sgrna_df(rev_comp_seq, context_len=context_len, pam_start=pam_start,\n",
    "                                           pam_len=pam_len, sgrna_start=sgrna_start,\n",
    "                                           sgrna_len=sgrna_len, pams=pams)\n",
    "        neg_sgrna_df = get_sgrna_global_indices(neg_sgrna_df, seq_start, seq_end, -1, sg_positions)\n",
    "        neg_sgrna_df['sgrna_strand'] = -1\n",
    "        # Combine and filter sgrna_dfs\n",
    "        sgrna_df = pd.concat([pos_sgrna_df, neg_sgrna_df])\n",
    "        for col in meta_columns:\n",
    "            sgrna_df[col] = row[col]\n",
    "        sgrna_df_list.append(sgrna_df)\n",
    "    concatenated_sgrna_dfs = (pd.concat(sgrna_df_list)\n",
    "                              .rename({'strand': 'transcript_strand',\n",
    "                                       'start': 'region_start',\n",
    "                                       'end': 'region_end',\n",
    "                                       'seq_region_name': 'chromosome'}, axis=1))\n",
    "    return concatenated_sgrna_dfs"
   ]
  },
  {
   "cell_type": "code",
   "execution_count": null,
   "metadata": {},
   "outputs": [],
   "source": [
    "transcript_sgrna_df = get_transcript_sgrnas(target_region_seq_df, context_len=30, pam_start=-6,\n",
    "                                            pam_len=3, sgrna_start=4, sgrna_len=20, pams=['AGG', 'CGG', 'TGG', 'GGG'],\n",
    "                                            sg_positions=[17, 18])\n",
    "assert 'CCGCGCTTCTGTCCGCCTGC' in transcript_sgrna_df['sgrna_sequence'].to_list()"
   ]
  },
  {
   "cell_type": "code",
   "execution_count": null,
   "metadata": {},
   "outputs": [],
   "source": [
    "# export\n",
    "def filter_sgrnas_by_region(transcript_sgrna_df, sg_positions):\n",
    "    \"\"\"Filter for sgRNAs such that the specified sgRNA positions are within the region of interest\n",
    "\n",
    "    transcript_sgrna_df: DataFrame, from`get_transcript_sgrnas`\n",
    "    sg_positions: list of int, positions within the sgRNA to annotate\n",
    "    (e.g. [4,8] for nucleotides 4 and 8 of the sgRNA) |\n",
    "\n",
    "    returns: DataFrame, filtered for sgRNAs that fall within the target region\n",
    "    \"\"\"\n",
    "    global_pos_cols = []\n",
    "    for pos in sg_positions:\n",
    "        global_pos_cols.append('sgrna_global_' + str(pos))\n",
    "    filtered_sgrna_df = transcript_sgrna_df[\n",
    "        ((transcript_sgrna_df[global_pos_cols].min(axis=1) >= transcript_sgrna_df['region_start']) &\n",
    "         (transcript_sgrna_df[global_pos_cols].min(axis=1) <= transcript_sgrna_df['region_end'])) |\n",
    "        ((transcript_sgrna_df[global_pos_cols].max(axis=1) >= transcript_sgrna_df['region_start']) &\n",
    "         (transcript_sgrna_df[global_pos_cols].max(axis=1) <= transcript_sgrna_df['region_end']))\n",
    "    ].copy()\n",
    "    return filtered_sgrna_df"
   ]
  },
  {
   "cell_type": "code",
   "execution_count": null,
   "metadata": {},
   "outputs": [],
   "source": [
    "filtered_sgrnas = filter_sgrnas_by_region(transcript_sgrna_df, [17, 18])\n",
    "assert filtered_sgrnas.shape[0] < transcript_sgrna_df.shape[0]"
   ]
  },
  {
   "cell_type": "code",
   "execution_count": null,
   "metadata": {},
   "outputs": [],
   "source": [
    "# export\n",
    "def design_sgrna_tiling_library(target_transcripts, region_parent, region,\n",
    "                                expand_3prime, expand_5prime, context_len,\n",
    "                                pam_start, pam_len, sgrna_start, sgrna_len,\n",
    "                                pams, sg_positions):\n",
    "    \"\"\"Design sgRNAs tiling transcript regions\n",
    "\n",
    "    target_transcripts: list of str\n",
    "    region_parent: str, first level key in transcript_info eg. UTR |\n",
    "    region: str, second level key in trancript_info eg. three_prime_UTR |\n",
    "    expand_3prime: int, length to expand region in 3' direction |\n",
    "    expand_5prime: int, length to expand region in 5' direction |\n",
    "    context_len: int, length of context sequence |\n",
    "    pam_start: int, position of PAM start relative to the context sequence |\n",
    "    pam_len: int, length of PAM |\n",
    "    sgrna_start: int, position of sgRNA relative to context sequence |\n",
    "    sgrna_len: length of sgRNA sequence |\n",
    "    pams: list or None, PAMs to design against |\n",
    "    sg_positions: list of int, positions within the sgRNA to annotate\n",
    "    (e.g. [4,8] for nucleotides 4 and 8 of the sgRNA) |\n",
    "\n",
    "    returns: DataFrame, sgRNAs for transcript regions of interest\n",
    "    \"\"\"\n",
    "    target_regions_df = get_target_regions_df(target_transcripts=target_transcripts, region_parent=region_parent,\n",
    "                                              region=region, expand_3prime=expand_3prime,\n",
    "                                              expand_5prime=expand_5prime)\n",
    "    target_sequences_df = get_target_regions_sequences(target_regions_df)\n",
    "    target_region_seq_df = merge_target_region_sequence_df(target_regions_df, target_sequences_df)\n",
    "    transcript_sgrna_df = get_transcript_sgrnas(target_region_seq_df, context_len=context_len, pam_start=pam_start,\n",
    "                                                pam_len=pam_len, sgrna_start=sgrna_start, sgrna_len=sgrna_len,\n",
    "                                                pams=pams, sg_positions=sg_positions)\n",
    "    filtered_sgrnas = filter_sgrnas_by_region(transcript_sgrna_df, sg_positions)\n",
    "    return filtered_sgrnas"
   ]
  },
  {
   "cell_type": "code",
   "execution_count": null,
   "metadata": {},
   "outputs": [
    {
     "data": {
      "text/html": "<div>\n<style scoped>\n    .dataframe tbody tr th:only-of-type {\n        vertical-align: middle;\n    }\n\n    .dataframe tbody tr th {\n        vertical-align: top;\n    }\n\n    .dataframe thead th {\n        text-align: right;\n    }\n</style>\n<table border=\"1\" class=\"dataframe\">\n  <thead>\n    <tr style=\"text-align: right;\">\n      <th></th>\n      <th>context_sequence</th>\n      <th>pam_sequence</th>\n      <th>sgrna_sequence</th>\n      <th>sgrna_global_start</th>\n      <th>sgrna_global_17</th>\n      <th>sgrna_global_18</th>\n      <th>sgrna_strand</th>\n      <th>object_type</th>\n      <th>transcript_strand</th>\n      <th>transcript_id</th>\n      <th>chromosome</th>\n      <th>region_id</th>\n      <th>region_start</th>\n      <th>region_end</th>\n    </tr>\n  </thead>\n  <tbody>\n    <tr>\n      <th>3</th>\n      <td>GCTGTCTTTATATTCATGACCTACTGGCAT</td>\n      <td>TGG</td>\n      <td>TCTTTATATTCATGACCTAC</td>\n      <td>5456130.0</td>\n      <td>5456146.0</td>\n      <td>5456147.0</td>\n      <td>1</td>\n      <td>Exon</td>\n      <td>1</td>\n      <td>ENST00000381577</td>\n      <td>9</td>\n      <td>ENSE00000813155</td>\n      <td>5456100</td>\n      <td>5456165</td>\n    </tr>\n    <tr>\n      <th>4</th>\n      <td>CATGACCTACTGGCATTTGCTGAACGGTAA</td>\n      <td>CGG</td>\n      <td>ACCTACTGGCATTTGCTGAA</td>\n      <td>5456144.0</td>\n      <td>5456160.0</td>\n      <td>5456161.0</td>\n      <td>1</td>\n      <td>Exon</td>\n      <td>1</td>\n      <td>ENST00000381577</td>\n      <td>9</td>\n      <td>ENSE00000813155</td>\n      <td>5456100</td>\n      <td>5456165</td>\n    </tr>\n    <tr>\n      <th>0</th>\n      <td>TCTTACCGTTCAGCAAATGCCAGTAGGTCA</td>\n      <td>AGG</td>\n      <td>ACCGTTCAGCAAATGCCAGT</td>\n      <td>5456167.0</td>\n      <td>5456151.0</td>\n      <td>5456150.0</td>\n      <td>-1</td>\n      <td>Exon</td>\n      <td>1</td>\n      <td>ENST00000381577</td>\n      <td>9</td>\n      <td>ENSE00000813155</td>\n      <td>5456100</td>\n      <td>5456165</td>\n    </tr>\n    <tr>\n      <th>0</th>\n      <td>CTTTCTTTTTAGCATTTACTGTCACGGTTC</td>\n      <td>CGG</td>\n      <td>CTTTTTAGCATTTACTGTCA</td>\n      <td>5457071.0</td>\n      <td>5457087.0</td>\n      <td>5457088.0</td>\n      <td>1</td>\n      <td>Exon</td>\n      <td>1</td>\n      <td>ENST00000381577</td>\n      <td>9</td>\n      <td>ENSE00003541119</td>\n      <td>5457079</td>\n      <td>5457420</td>\n    </tr>\n    <tr>\n      <th>1</th>\n      <td>TAGCATTTACTGTCACGGTTCCCAAGGACC</td>\n      <td>AGG</td>\n      <td>ATTTACTGTCACGGTTCCCA</td>\n      <td>5457080.0</td>\n      <td>5457096.0</td>\n      <td>5457097.0</td>\n      <td>1</td>\n      <td>Exon</td>\n      <td>1</td>\n      <td>ENST00000381577</td>\n      <td>9</td>\n      <td>ENSE00003541119</td>\n      <td>5457079</td>\n      <td>5457420</td>\n    </tr>\n    <tr>\n      <th>...</th>\n      <td>...</td>\n      <td>...</td>\n      <td>...</td>\n      <td>...</td>\n      <td>...</td>\n      <td>...</td>\n      <td>...</td>\n      <td>...</td>\n      <td>...</td>\n      <td>...</td>\n      <td>...</td>\n      <td>...</td>\n      <td>...</td>\n      <td>...</td>\n    </tr>\n    <tr>\n      <th>7</th>\n      <td>TCTCCAAAAACACCCATCCAGGCAGGGGGA</td>\n      <td>GGG</td>\n      <td>CAAAAACACCCATCCAGGCA</td>\n      <td>140734646.0</td>\n      <td>140734630.0</td>\n      <td>140734629.0</td>\n      <td>-1</td>\n      <td>Exon</td>\n      <td>-1</td>\n      <td>ENST00000644969</td>\n      <td>7</td>\n      <td>ENSE00001907699</td>\n      <td>140734617</td>\n      <td>140734770</td>\n    </tr>\n    <tr>\n      <th>8</th>\n      <td>CTCCAAAAACACCCATCCAGGCAGGGGGAT</td>\n      <td>GGG</td>\n      <td>AAAAACACCCATCCAGGCAG</td>\n      <td>140734645.0</td>\n      <td>140734629.0</td>\n      <td>140734628.0</td>\n      <td>-1</td>\n      <td>Exon</td>\n      <td>-1</td>\n      <td>ENST00000644969</td>\n      <td>7</td>\n      <td>ENSE00001907699</td>\n      <td>140734617</td>\n      <td>140734770</td>\n    </tr>\n    <tr>\n      <th>9</th>\n      <td>TCCAAAAACACCCATCCAGGCAGGGGGATA</td>\n      <td>GGG</td>\n      <td>AAAACACCCATCCAGGCAGG</td>\n      <td>140734644.0</td>\n      <td>140734628.0</td>\n      <td>140734627.0</td>\n      <td>-1</td>\n      <td>Exon</td>\n      <td>-1</td>\n      <td>ENST00000644969</td>\n      <td>7</td>\n      <td>ENSE00001907699</td>\n      <td>140734617</td>\n      <td>140734770</td>\n    </tr>\n    <tr>\n      <th>10</th>\n      <td>AACACCCATCCAGGCAGGGGGATATGGTGC</td>\n      <td>TGG</td>\n      <td>CCCATCCAGGCAGGGGGATA</td>\n      <td>140734638.0</td>\n      <td>140734622.0</td>\n      <td>140734621.0</td>\n      <td>-1</td>\n      <td>Exon</td>\n      <td>-1</td>\n      <td>ENST00000644969</td>\n      <td>7</td>\n      <td>ENSE00001907699</td>\n      <td>140734617</td>\n      <td>140734770</td>\n    </tr>\n    <tr>\n      <th>281</th>\n      <td>GCTGCCATGATGGTGGCTACTTGAAGGCTG</td>\n      <td>AGG</td>\n      <td>CCATGATGGTGGCTACTTGA</td>\n      <td>140726482.0</td>\n      <td>140726498.0</td>\n      <td>140726499.0</td>\n      <td>1</td>\n      <td>Exon</td>\n      <td>-1</td>\n      <td>ENST00000644969</td>\n      <td>7</td>\n      <td>ENSE00003819130</td>\n      <td>140719337</td>\n      <td>140726516</td>\n    </tr>\n  </tbody>\n</table>\n<p>401 rows × 14 columns</p>\n</div>",
      "text/plain": "                   context_sequence pam_sequence        sgrna_sequence  \\\n3    GCTGTCTTTATATTCATGACCTACTGGCAT          TGG  TCTTTATATTCATGACCTAC   \n4    CATGACCTACTGGCATTTGCTGAACGGTAA          CGG  ACCTACTGGCATTTGCTGAA   \n0    TCTTACCGTTCAGCAAATGCCAGTAGGTCA          AGG  ACCGTTCAGCAAATGCCAGT   \n0    CTTTCTTTTTAGCATTTACTGTCACGGTTC          CGG  CTTTTTAGCATTTACTGTCA   \n1    TAGCATTTACTGTCACGGTTCCCAAGGACC          AGG  ATTTACTGTCACGGTTCCCA   \n..                              ...          ...                   ...   \n7    TCTCCAAAAACACCCATCCAGGCAGGGGGA          GGG  CAAAAACACCCATCCAGGCA   \n8    CTCCAAAAACACCCATCCAGGCAGGGGGAT          GGG  AAAAACACCCATCCAGGCAG   \n9    TCCAAAAACACCCATCCAGGCAGGGGGATA          GGG  AAAACACCCATCCAGGCAGG   \n10   AACACCCATCCAGGCAGGGGGATATGGTGC          TGG  CCCATCCAGGCAGGGGGATA   \n281  GCTGCCATGATGGTGGCTACTTGAAGGCTG          AGG  CCATGATGGTGGCTACTTGA   \n\n     sgrna_global_start  sgrna_global_17  sgrna_global_18  sgrna_strand  \\\n3             5456130.0        5456146.0        5456147.0             1   \n4             5456144.0        5456160.0        5456161.0             1   \n0             5456167.0        5456151.0        5456150.0            -1   \n0             5457071.0        5457087.0        5457088.0             1   \n1             5457080.0        5457096.0        5457097.0             1   \n..                  ...              ...              ...           ...   \n7           140734646.0      140734630.0      140734629.0            -1   \n8           140734645.0      140734629.0      140734628.0            -1   \n9           140734644.0      140734628.0      140734627.0            -1   \n10          140734638.0      140734622.0      140734621.0            -1   \n281         140726482.0      140726498.0      140726499.0             1   \n\n    object_type  transcript_strand    transcript_id chromosome  \\\n3          Exon                  1  ENST00000381577          9   \n4          Exon                  1  ENST00000381577          9   \n0          Exon                  1  ENST00000381577          9   \n0          Exon                  1  ENST00000381577          9   \n1          Exon                  1  ENST00000381577          9   \n..          ...                ...              ...        ...   \n7          Exon                 -1  ENST00000644969          7   \n8          Exon                 -1  ENST00000644969          7   \n9          Exon                 -1  ENST00000644969          7   \n10         Exon                 -1  ENST00000644969          7   \n281        Exon                 -1  ENST00000644969          7   \n\n           region_id  region_start  region_end  \n3    ENSE00000813155       5456100     5456165  \n4    ENSE00000813155       5456100     5456165  \n0    ENSE00000813155       5456100     5456165  \n0    ENSE00003541119       5457079     5457420  \n1    ENSE00003541119       5457079     5457420  \n..               ...           ...         ...  \n7    ENSE00001907699     140734617   140734770  \n8    ENSE00001907699     140734617   140734770  \n9    ENSE00001907699     140734617   140734770  \n10   ENSE00001907699     140734617   140734770  \n281  ENSE00003819130     140719337   140726516  \n\n[401 rows x 14 columns]"
     },
     "execution_count": null,
     "metadata": {},
     "output_type": "execute_result"
    }
   ],
   "source": [
    "target_transcripts = ['ENST00000381577', 'ENST00000644969']\n",
    "exon_tiling_library = design_sgrna_tiling_library(target_transcripts, region_parent='Exon', region='Exon',\n",
    "                                                  expand_3prime=30, expand_5prime=30, context_len=30,\n",
    "                                                  pam_start=-6, pam_len=3, sgrna_start=4, sgrna_len=20,\n",
    "                                                  pams=['AGG', 'CGG', 'TGG', 'GGG'], sg_positions=[17, 18])\n",
    "utr3_tiling_library = design_sgrna_tiling_library(target_transcripts, region_parent='UTR', region='three_prime_UTR',\n",
    "                                                  expand_3prime=30, expand_5prime=30, context_len=30,\n",
    "                                                  pam_start=-6, pam_len=3, sgrna_start=4, sgrna_len=20,\n",
    "                                                  pams=['AGG', 'CGG', 'TGG', 'GGG'], sg_positions=[17, 18])\n",
    "utr5_tiling_library = design_sgrna_tiling_library(target_transcripts, region_parent='UTR', region='five_prime_UTR',\n",
    "                                                  expand_3prime=30, expand_5prime=30, context_len=30,\n",
    "                                                  pam_start=-6, pam_len=3, sgrna_start=4, sgrna_len=20,\n",
    "                                                  pams=['AGG', 'CGG', 'TGG', 'GGG'], sg_positions=[17, 18])\n",
    "# This is an approximation, as some guides are actually at the UTR/CDS border\n",
    "cds_tiling_library = exon_tiling_library[~exon_tiling_library['sgrna_sequence']\n",
    "                                         .isin(utr3_tiling_library['sgrna_sequence'].to_list() +\n",
    "                                               utr5_tiling_library['sgrna_sequence'].to_list())].copy()\n",
    "crispick_designs = pd.read_table('data/example_cas9_sgrna-designs.txt')\n",
    "assert (set(crispick_designs['sgRNA Sequence']) - {'TAGGGCATTCCAGAAAGATG'} ==\n",
    "        set(cds_tiling_library['sgrna_sequence']))\n",
    "cds_tiling_library"
   ]
  },
  {
   "cell_type": "code",
   "execution_count": null,
   "metadata": {},
   "outputs": [],
   "source": []
  }
 ],
 "metadata": {
  "kernelspec": {
   "display_name": "Python 3",
   "language": "python",
   "name": "python3"
  }
 },
 "nbformat": 4,
 "nbformat_minor": 0
}
